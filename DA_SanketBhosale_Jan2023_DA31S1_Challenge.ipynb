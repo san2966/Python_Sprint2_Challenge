{
 "cells": [
  {
   "cell_type": "markdown",
   "id": "ed0bc506",
   "metadata": {},
   "source": [
    "# Task-1:-"
   ]
  },
  {
   "cell_type": "code",
   "execution_count": null,
   "id": "e31d0282",
   "metadata": {},
   "outputs": [],
   "source": [
    "-- Accept an integer between 1900 and 2100 fro the user.\n",
    "-- Display whether the integer is a leap year or not.\n",
    "-- The program should display an error if the integer entered lies outside the specified range."
   ]
  },
  {
   "cell_type": "code",
   "execution_count": 34,
   "id": "1c41a419",
   "metadata": {},
   "outputs": [
    {
     "name": "stdout",
     "output_type": "stream",
     "text": [
      "Enter an Integer value between 1900 and 2100 : 2023\n",
      "not a leap year\n"
     ]
    }
   ],
   "source": [
    "year=int(input('Enter an Integer value between 1900 and 2100 : '))\n",
    "if year <1900 or year >2100:\n",
    "    print('wrong value')\n",
    "elif year%4==0:\n",
    "    print('leap year')\n",
    "elif year%100==0:\n",
    "    print('not a leap year')\n",
    "elif year%400==0:\n",
    "    print('leap year')\n",
    "else:\n",
    "    print('not a leap year')\n"
   ]
  },
  {
   "cell_type": "markdown",
   "id": "d6536c77",
   "metadata": {},
   "source": [
    "-- ========================================================================================================================="
   ]
  },
  {
   "cell_type": "markdown",
   "id": "6cf68046",
   "metadata": {},
   "source": [
    "# Task-2:-"
   ]
  },
  {
   "cell_type": "markdown",
   "id": "6123b461",
   "metadata": {},
   "source": [
    "-- Accept an integer between 1 and 12.\n",
    "-- write a code to display the name of the month and the number of days in that month.\n",
    "-- The program must display an error for any number entered outside this range."
   ]
  },
  {
   "cell_type": "code",
   "execution_count": 2,
   "id": "37b2da30",
   "metadata": {},
   "outputs": [
    {
     "ename": "SyntaxError",
     "evalue": "invalid syntax (3761646293.py, line 41)",
     "output_type": "error",
     "traceback": [
      "\u001b[1;36m  File \u001b[1;32m\"C:\\Users\\Manohar Bhosale\\AppData\\Local\\Temp\\ipykernel_6288\\3761646293.py\"\u001b[1;36m, line \u001b[1;32m41\u001b[0m\n\u001b[1;33m    else month<1 or month>12:\u001b[0m\n\u001b[1;37m         ^\u001b[0m\n\u001b[1;31mSyntaxError\u001b[0m\u001b[1;31m:\u001b[0m invalid syntax\n"
     ]
    }
   ],
   "source": [
    "month =int(input('Enter the month number'))\n",
    "if month<1 or month>12:\n",
    "    print('Error: Input a valid number')\n",
    "elif month==1:\n",
    "    name='January'\n",
    "    day=31\n",
    "elif month==2:\n",
    "    name='February'\n",
    "    day=28\n",
    "elif month==3:\n",
    "    name='March'\n",
    "    day=31\n",
    "elif month==4:\n",
    "    name='April'\n",
    "    day=30\n",
    "elif month==5:\n",
    "    name='May'\n",
    "    day=31\n",
    "elif month==6:\n",
    "    name='June'\n",
    "    day=30\n",
    "elif month==7:\n",
    "    name='July'\n",
    "    day=31\n",
    "elif month==8:\n",
    "    name='August'\n",
    "    day=31\n",
    "elif month==9:\n",
    "    name='September'\n",
    "    day=30\n",
    "elif month==10:\n",
    "    name='Octomber'\n",
    "    day=31\n",
    "elif month==11:\n",
    "    name='November'\n",
    "    day=30\n",
    "elif month==12:\n",
    "    name='December'\n",
    "    day=31\n",
    "    \n",
    "print(name,'has',day,'days')\n"
   ]
  },
  {
   "cell_type": "markdown",
   "id": "160e4b21",
   "metadata": {},
   "source": [
    "-- ========================================================================================================================="
   ]
  },
  {
   "cell_type": "markdown",
   "id": "82520946",
   "metadata": {},
   "source": [
    "# Task-3:-"
   ]
  },
  {
   "cell_type": "code",
   "execution_count": null,
   "id": "6e702b91",
   "metadata": {},
   "outputs": [],
   "source": [
    "-- Accept the total bill from user.\n",
    "-- calculate the discount and total bill, the discount calculated, and bill amount after deducting the discount."
   ]
  },
  {
   "cell_type": "code",
   "execution_count": 2,
   "id": "ac1b3a0d",
   "metadata": {},
   "outputs": [
    {
     "name": "stdout",
     "output_type": "stream",
     "text": [
      "Enter the bill amount: 260\n",
      "Discounted bill is: 195.0\n"
     ]
    }
   ],
   "source": [
    "bill=int(input('Enter the bill amount: '))\n",
    "\n",
    "if bill<100:\n",
    "    print('no discount on bill', bill)\n",
    "if bill>100 or bill<150:\n",
    "    discount=bill*0.1\n",
    "if bill>150 or bill<250:\n",
    "    discount=bill*0.15\n",
    "if bill>250:\n",
    "    discount=bill*0.25\n",
    "\n",
    "discounted_bill = (bill-discount)\n",
    "print('Discounted bill is:',discounted_bill)"
   ]
  },
  {
   "cell_type": "markdown",
   "id": "6215cc4f",
   "metadata": {},
   "source": [
    "-- ========================================================================================================================="
   ]
  },
  {
   "cell_type": "markdown",
   "id": "7807d6a7",
   "metadata": {},
   "source": [
    "# Task-4:-"
   ]
  },
  {
   "cell_type": "markdown",
   "id": "421c0ef6",
   "metadata": {},
   "source": [
    "-- Think about how the rules of the game can be translated to python code.\n",
    "-- build the Rock-Paper-Scissors game using the python.\n",
    "-- Player1 is the computer in this game.\n",
    "1) Rock smashes scissors\n",
    "2) Paper covers Rock\n",
    "3) Scissor cut Paper"
   ]
  },
  {
   "cell_type": "code",
   "execution_count": 4,
   "id": "20d5d7a4",
   "metadata": {},
   "outputs": [
    {
     "name": "stdout",
     "output_type": "stream",
     "text": [
      "enter your move: rock\n",
      "user move: rock\n",
      "computer move: rock\n",
      "Tie game Try again\n"
     ]
    }
   ],
   "source": [
    "import random\n",
    "r='rock'\n",
    "p='paper'\n",
    "s='scissors'\n",
    "user=input('enter your move: ')\n",
    "moves=['rock','paper','scissors']\n",
    "\n",
    "computer=random.choice(moves)\n",
    "\n",
    "if user==computer:\n",
    "    print('user move:',user)\n",
    "    print('computer move:',computer)\n",
    "    print('Tie game','Try again')\n",
    "\n",
    "elif moves=='rock':\n",
    "    if computer=='scissor':\n",
    "        print('user move:',moves)\n",
    "        print('computer move:',computer)\n",
    "        print('Rock smashes scissor - User win')\n",
    "    else:\n",
    "        print('user move:',moves)\n",
    "        print('computer move:',computer)\n",
    "        print('Paper covers rock - computer win')\n",
    "elif moves=='paper':\n",
    "    if computer=='rock':\n",
    "        print('user move:',moves)\n",
    "        print('computer move:',computer)\n",
    "        print('paper covers rock - User win')\n",
    "    else:\n",
    "        print('user move:',moves)\n",
    "        print('computer move:',computer)\n",
    "        print('scissor cut paper - computer win')\n",
    "elif moves=='scissor':\n",
    "    if computer=='paper':\n",
    "        print('user move:',moves)\n",
    "        print('computer move:',computer)\n",
    "        print('scissor cut paper - user win')\n",
    "    else:\n",
    "        print('user move:',moves)\n",
    "        print('computer move:',computer)\n",
    "        print('rock smashes scissor - computer win')\n",
    "\n"
   ]
  },
  {
   "cell_type": "code",
   "execution_count": null,
   "id": "7351b25b",
   "metadata": {},
   "outputs": [],
   "source": []
  }
 ],
 "metadata": {
  "kernelspec": {
   "display_name": "Python 3 (ipykernel)",
   "language": "python",
   "name": "python3"
  },
  "language_info": {
   "codemirror_mode": {
    "name": "ipython",
    "version": 3
   },
   "file_extension": ".py",
   "mimetype": "text/x-python",
   "name": "python",
   "nbconvert_exporter": "python",
   "pygments_lexer": "ipython3",
   "version": "3.9.13"
  }
 },
 "nbformat": 4,
 "nbformat_minor": 5
}
